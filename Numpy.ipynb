{
  "cells": [
    {
      "cell_type": "code",
      "execution_count": 1,
      "metadata": {
        "id": "AJlrxA2uwi4P"
      },
      "outputs": [],
      "source": [
        "import numpy as np"
      ]
    },
    {
      "cell_type": "code",
      "execution_count": 2,
      "metadata": {
        "colab": {
          "base_uri": "https://localhost:8080/"
        },
        "id": "bUlau9_Ry40q",
        "outputId": "61d239e2-7139-4de6-f56d-539abcd13871"
      },
      "outputs": [
        {
          "output_type": "execute_result",
          "data": {
            "text/plain": [
              "array([1, 2, 3, 4, 5, 6, 7, 8, 9])"
            ]
          },
          "metadata": {},
          "execution_count": 2
        }
      ],
      "source": [
        "a = np.array([1,2,3,4,5,6,7,8,9])\n",
        "a"
      ]
    },
    {
      "cell_type": "code",
      "execution_count": 3,
      "metadata": {
        "colab": {
          "base_uri": "https://localhost:8080/"
        },
        "id": "t-HKxSwYzW0j",
        "outputId": "2e3ae2aa-c692-4bb6-8f12-7a458848ee72"
      },
      "outputs": [
        {
          "output_type": "stream",
          "name": "stdout",
          "text": [
            "[1 2 3 4 5 6 7 8 9]\n"
          ]
        }
      ],
      "source": [
        "print(a)"
      ]
    },
    {
      "cell_type": "code",
      "execution_count": 4,
      "metadata": {
        "id": "oGEg4b07zs3c",
        "colab": {
          "base_uri": "https://localhost:8080/"
        },
        "outputId": "1b492517-2c3a-4438-a224-6884957a7c4b"
      },
      "outputs": [
        {
          "output_type": "stream",
          "name": "stdout",
          "text": [
            "[[1 2 3]\n",
            " [4 5 6]\n",
            " [7 8 9]]\n"
          ]
        }
      ],
      "source": [
        "rabbi = a.reshape((3,3))\n",
        "print(rabbi)"
      ]
    },
    {
      "cell_type": "code",
      "execution_count": null,
      "metadata": {
        "id": "z9x5GndX0CCi"
      },
      "outputs": [],
      "source": [
        "b = np.array([1,2,3,4,5,6,7,8,9,10,11,12,13,14,15,16,17,18,19,20])"
      ]
    },
    {
      "cell_type": "code",
      "execution_count": null,
      "metadata": {
        "colab": {
          "base_uri": "https://localhost:8080/"
        },
        "id": "inzaeru31J2h",
        "outputId": "aec4ffd8-a4dc-447c-e9f1-80a4e4b90b0e"
      },
      "outputs": [
        {
          "output_type": "execute_result",
          "data": {
            "text/plain": [
              "array([[ 1],\n",
              "       [ 2],\n",
              "       [ 3],\n",
              "       [ 4],\n",
              "       [ 5],\n",
              "       [ 6],\n",
              "       [ 7],\n",
              "       [ 8],\n",
              "       [ 9],\n",
              "       [10],\n",
              "       [11],\n",
              "       [12],\n",
              "       [13],\n",
              "       [14],\n",
              "       [15],\n",
              "       [16],\n",
              "       [17],\n",
              "       [18],\n",
              "       [19],\n",
              "       [20]])"
            ]
          },
          "metadata": {},
          "execution_count": 6
        }
      ],
      "source": [
        "r = b.reshape((20,1))\n",
        "r"
      ]
    },
    {
      "cell_type": "code",
      "execution_count": null,
      "metadata": {
        "id": "pSbx8Eca15D7"
      },
      "outputs": [],
      "source": []
    },
    {
      "cell_type": "code",
      "execution_count": null,
      "metadata": {
        "colab": {
          "base_uri": "https://localhost:8080/"
        },
        "id": "eGeTIl9N1QVK",
        "outputId": "bb3bc6ee-bb50-470f-8020-df1c11e63e99"
      },
      "outputs": [
        {
          "output_type": "execute_result",
          "data": {
            "text/plain": [
              "array([[ 1,  2,  3,  4,  5,  6,  7,  8,  9, 10],\n",
              "       [11, 12, 13, 14, 15, 16, 17, 18, 19, 20]])"
            ]
          },
          "metadata": {},
          "execution_count": 7
        }
      ],
      "source": [
        "r = b.reshape((2,10))\n",
        "r"
      ]
    },
    {
      "cell_type": "code",
      "execution_count": null,
      "metadata": {
        "colab": {
          "base_uri": "https://localhost:8080/"
        },
        "id": "w5PsfzBd1TdL",
        "outputId": "cdbd9e49-5359-4319-ac56-54d70208a50b"
      },
      "outputs": [
        {
          "output_type": "execute_result",
          "data": {
            "text/plain": [
              "array([[ 1,  2],\n",
              "       [ 3,  4],\n",
              "       [ 5,  6],\n",
              "       [ 7,  8],\n",
              "       [ 9, 10],\n",
              "       [11, 12],\n",
              "       [13, 14],\n",
              "       [15, 16],\n",
              "       [17, 18],\n",
              "       [19, 20]])"
            ]
          },
          "metadata": {},
          "execution_count": 8
        }
      ],
      "source": [
        "r = b.reshape((10,2))\n",
        "r"
      ]
    },
    {
      "cell_type": "code",
      "execution_count": null,
      "metadata": {
        "colab": {
          "base_uri": "https://localhost:8080/"
        },
        "id": "PBERHwWC1V3S",
        "outputId": "8a145adb-b7c1-4c48-a8f9-b3f320e81d1d"
      },
      "outputs": [
        {
          "output_type": "execute_result",
          "data": {
            "text/plain": [
              "array([[ 1,  2,  3,  4,  5],\n",
              "       [ 6,  7,  8,  9, 10],\n",
              "       [11, 12, 13, 14, 15],\n",
              "       [16, 17, 18, 19, 20]])"
            ]
          },
          "metadata": {},
          "execution_count": 9
        }
      ],
      "source": [
        "r = b.reshape((4,5))\n",
        "r"
      ]
    },
    {
      "cell_type": "code",
      "execution_count": null,
      "metadata": {
        "colab": {
          "base_uri": "https://localhost:8080/"
        },
        "id": "DBntrjbT1btS",
        "outputId": "c3f84a60-82f6-44f7-f417-a83e1d407639"
      },
      "outputs": [
        {
          "output_type": "execute_result",
          "data": {
            "text/plain": [
              "array([[ 1,  2,  3,  4],\n",
              "       [ 5,  6,  7,  8],\n",
              "       [ 9, 10, 11, 12],\n",
              "       [13, 14, 15, 16],\n",
              "       [17, 18, 19, 20]])"
            ]
          },
          "metadata": {},
          "execution_count": 10
        }
      ],
      "source": [
        "r = b.reshape((5,4))\n",
        "r"
      ]
    },
    {
      "cell_type": "code",
      "execution_count": null,
      "metadata": {
        "colab": {
          "base_uri": "https://localhost:8080/"
        },
        "id": "N98jpQQM16P6",
        "outputId": "59796ba6-cb99-4de2-a692-25723f863d99"
      },
      "outputs": [
        {
          "output_type": "execute_result",
          "data": {
            "text/plain": [
              "array([[ 10,  20,  30,  40],\n",
              "       [ 50,  60,  70,  80],\n",
              "       [ 90, 100, 110, 120],\n",
              "       [130, 140, 150, 160],\n",
              "       [170, 180, 190, 200]])"
            ]
          },
          "metadata": {},
          "execution_count": 11
        }
      ],
      "source": [
        "r*10"
      ]
    },
    {
      "cell_type": "code",
      "execution_count": null,
      "metadata": {
        "colab": {
          "base_uri": "https://localhost:8080/"
        },
        "id": "185nlJIx1_46",
        "outputId": "7000b97b-a0cf-46c5-af53-0024f19c9eda"
      },
      "outputs": [
        {
          "output_type": "execute_result",
          "data": {
            "text/plain": [
              "array([[11, 12, 13, 14],\n",
              "       [15, 16, 17, 18],\n",
              "       [19, 20, 21, 22],\n",
              "       [23, 24, 25, 26],\n",
              "       [27, 28, 29, 30]])"
            ]
          },
          "metadata": {},
          "execution_count": 12
        }
      ],
      "source": [
        "r+10"
      ]
    },
    {
      "cell_type": "code",
      "execution_count": null,
      "metadata": {
        "colab": {
          "base_uri": "https://localhost:8080/"
        },
        "id": "epTi4jSe2C9S",
        "outputId": "8c57b035-b07e-410b-c05e-023d1709682f"
      },
      "outputs": [
        {
          "output_type": "execute_result",
          "data": {
            "text/plain": [
              "array([[-9, -8, -7, -6],\n",
              "       [-5, -4, -3, -2],\n",
              "       [-1,  0,  1,  2],\n",
              "       [ 3,  4,  5,  6],\n",
              "       [ 7,  8,  9, 10]])"
            ]
          },
          "metadata": {},
          "execution_count": 13
        }
      ],
      "source": [
        "r-10"
      ]
    },
    {
      "cell_type": "code",
      "execution_count": null,
      "metadata": {
        "colab": {
          "base_uri": "https://localhost:8080/"
        },
        "id": "EEt4mlg-2FDi",
        "outputId": "8ed587d2-1b3f-4c1c-fbf6-39ca29586ffa"
      },
      "outputs": [
        {
          "output_type": "execute_result",
          "data": {
            "text/plain": [
              "array([[0.1, 0.2, 0.3, 0.4],\n",
              "       [0.5, 0.6, 0.7, 0.8],\n",
              "       [0.9, 1. , 1.1, 1.2],\n",
              "       [1.3, 1.4, 1.5, 1.6],\n",
              "       [1.7, 1.8, 1.9, 2. ]])"
            ]
          },
          "metadata": {},
          "execution_count": 14
        }
      ],
      "source": [
        "r/10"
      ]
    },
    {
      "cell_type": "code",
      "execution_count": null,
      "metadata": {
        "colab": {
          "base_uri": "https://localhost:8080/"
        },
        "id": "KD7XFEoq2NhS",
        "outputId": "cdec68ba-b8b4-4035-e10f-6e59c2a2101f"
      },
      "outputs": [
        {
          "output_type": "stream",
          "name": "stdout",
          "text": [
            "[1 2 3 4 5 6 7 8 9]\n"
          ]
        }
      ],
      "source": [
        "a = np.array([1,2,3,4,5,6,7,8,9])\n",
        "print(a)"
      ]
    },
    {
      "cell_type": "code",
      "execution_count": null,
      "metadata": {
        "colab": {
          "base_uri": "https://localhost:8080/"
        },
        "id": "EYTHgast2kyx",
        "outputId": "d29b01eb-a2d3-4725-b149-5f19ac3f1a91"
      },
      "outputs": [
        {
          "output_type": "stream",
          "name": "stdout",
          "text": [
            "3\n"
          ]
        }
      ],
      "source": [
        "arr= np.array([1,2,3,4,5,6,7,8,9])\n",
        "print(arr[2])"
      ]
    },
    {
      "cell_type": "code",
      "execution_count": null,
      "metadata": {
        "colab": {
          "base_uri": "https://localhost:8080/"
        },
        "id": "_rZrdLQo28IC",
        "outputId": "4310c8cc-c879-4efe-fa9f-7268760cfafe"
      },
      "outputs": [
        {
          "output_type": "stream",
          "name": "stdout",
          "text": [
            "10\n"
          ]
        }
      ],
      "source": [
        "print(arr[2] + arr[6])"
      ]
    },
    {
      "cell_type": "markdown",
      "metadata": {
        "id": "Jdkjd4gu3JBZ"
      },
      "source": [
        "2D array"
      ]
    },
    {
      "cell_type": "code",
      "execution_count": null,
      "metadata": {
        "colab": {
          "base_uri": "https://localhost:8080/"
        },
        "id": "s9P67ZfA3Gi5",
        "outputId": "d461ee1c-f836-47e9-fc39-0ce36ba3a8e2"
      },
      "outputs": [
        {
          "output_type": "stream",
          "name": "stdout",
          "text": [
            "7\n"
          ]
        }
      ],
      "source": [
        "arr= np.array([[1,2,3,4,5], [6,7,8,9,10]])\n",
        "print(arr[1,1])"
      ]
    },
    {
      "cell_type": "markdown",
      "metadata": {
        "id": "oHJBON9w3_Ky"
      },
      "source": [
        "3D"
      ]
    },
    {
      "cell_type": "code",
      "execution_count": null,
      "metadata": {
        "colab": {
          "base_uri": "https://localhost:8080/"
        },
        "id": "Rxxk3nYg37iy",
        "outputId": "14317518-64e5-4d42-9b4b-a42d31fda64c"
      },
      "outputs": [
        {
          "output_type": "stream",
          "name": "stdout",
          "text": [
            "11\n"
          ]
        }
      ],
      "source": [
        "arr= np.array([[[1,2,3], [4,5,6]],[[7,8,9],[10,11,12]]])\n",
        "print(arr[1,1,1])"
      ]
    },
    {
      "cell_type": "code",
      "execution_count": null,
      "metadata": {
        "colab": {
          "base_uri": "https://localhost:8080/"
        },
        "id": "WXnxvOWp5b2D",
        "outputId": "b9aeb6fd-0a9b-4433-e2b2-9f8487e98705"
      },
      "outputs": [
        {
          "output_type": "stream",
          "name": "stdout",
          "text": [
            "10\n"
          ]
        }
      ],
      "source": [
        "arr= np.array([[1,2,3,4,5], [6,7,8,9,10]])\n",
        "print(arr[1, -1])"
      ]
    },
    {
      "cell_type": "markdown",
      "metadata": {
        "id": "3JiyqjeW52Xj"
      },
      "source": [
        "slicing"
      ]
    },
    {
      "cell_type": "code",
      "execution_count": null,
      "metadata": {
        "colab": {
          "base_uri": "https://localhost:8080/"
        },
        "id": "ZoJsSlSt507V",
        "outputId": "4512a220-9c93-478c-e20e-c418b5f363e4"
      },
      "outputs": [
        {
          "output_type": "stream",
          "name": "stdout",
          "text": [
            "[2 3 4 5]\n"
          ]
        }
      ],
      "source": [
        "arr= np.array([1,2,3,4,5,6,7])\n",
        "print(arr[1:5])"
      ]
    },
    {
      "cell_type": "code",
      "execution_count": null,
      "metadata": {
        "colab": {
          "base_uri": "https://localhost:8080/"
        },
        "id": "RVOLKw8i6Lzr",
        "outputId": "698df077-1982-4bef-fab8-7ee74627899f"
      },
      "outputs": [
        {
          "output_type": "stream",
          "name": "stdout",
          "text": [
            "[2 3]\n"
          ]
        }
      ],
      "source": [
        "arr= np.array([1,2,3,4,5,6,7])\n",
        "print(arr[1:-4])"
      ]
    },
    {
      "cell_type": "code",
      "execution_count": null,
      "metadata": {
        "colab": {
          "base_uri": "https://localhost:8080/"
        },
        "id": "u4O4doo16c_i",
        "outputId": "c6e9a72b-3d47-4444-fac7-30856a0495e2"
      },
      "outputs": [
        {
          "output_type": "stream",
          "name": "stdout",
          "text": [
            "[5 6 7]\n"
          ]
        }
      ],
      "source": [
        "arr= np.array([1,2,3,4,5,6,7])\n",
        "print(arr[4:])"
      ]
    },
    {
      "cell_type": "code",
      "execution_count": null,
      "metadata": {
        "colab": {
          "base_uri": "https://localhost:8080/"
        },
        "id": "Jj9DPFeK6maz",
        "outputId": "d6af89b5-ccb7-452a-9291-26c264b016e1"
      },
      "outputs": [
        {
          "output_type": "stream",
          "name": "stdout",
          "text": [
            "[1 2 3 4]\n"
          ]
        }
      ],
      "source": [
        "arr= np.array([1,2,3,4,5,6,7])\n",
        "print(arr[:4])"
      ]
    },
    {
      "cell_type": "code",
      "execution_count": null,
      "metadata": {
        "colab": {
          "base_uri": "https://localhost:8080/"
        },
        "id": "vJB5UzjV6zvZ",
        "outputId": "7e321a8d-72f8-42b6-859e-d2a096d0c5b0"
      },
      "outputs": [
        {
          "output_type": "stream",
          "name": "stdout",
          "text": [
            "[5 6]\n"
          ]
        }
      ],
      "source": [
        "arr= np.array([1,2,3,4,5,6,7])\n",
        "print(arr[-3:-1])"
      ]
    },
    {
      "cell_type": "code",
      "execution_count": null,
      "metadata": {
        "colab": {
          "base_uri": "https://localhost:8080/"
        },
        "id": "QfnbtNnZ7BgZ",
        "outputId": "db42f634-3189-47e6-fff2-0b4a94917235"
      },
      "outputs": [
        {
          "output_type": "stream",
          "name": "stdout",
          "text": [
            "[2 4]\n"
          ]
        }
      ],
      "source": [
        "arr= np.array([1,2,3,4,5,6,7])\n",
        "print(arr[1:5:2])"
      ]
    },
    {
      "cell_type": "code",
      "execution_count": null,
      "metadata": {
        "colab": {
          "base_uri": "https://localhost:8080/"
        },
        "id": "YPHvp-yi7jTh",
        "outputId": "eb4e2f95-9514-406a-f1a4-032e2184284f"
      },
      "outputs": [
        {
          "output_type": "stream",
          "name": "stdout",
          "text": [
            "[1 3 5 7]\n"
          ]
        }
      ],
      "source": [
        "arr= np.array([1,2,3,4,5,6,7])\n",
        "print(arr[::2])"
      ]
    },
    {
      "cell_type": "markdown",
      "metadata": {
        "id": "qpzjCUjE9lIp"
      },
      "source": [
        "spliting"
      ]
    },
    {
      "cell_type": "code",
      "execution_count": null,
      "metadata": {
        "colab": {
          "base_uri": "https://localhost:8080/"
        },
        "id": "BmACc_i99kcZ",
        "outputId": "3835703a-3492-45a5-bf65-09aaba010692"
      },
      "outputs": [
        {
          "output_type": "execute_result",
          "data": {
            "text/plain": [
              "[array([1, 2, 3]), array([4, 5]), array([6, 7]), array([8, 9])]"
            ]
          },
          "metadata": {},
          "execution_count": 28
        }
      ],
      "source": [
        "arr= np.array([1,2,3,4,5,6,7,8,9])\n",
        "sumu = np.array_split(arr,4)\n",
        "sumu"
      ]
    },
    {
      "cell_type": "code",
      "execution_count": null,
      "metadata": {
        "id": "SFPm4ox0-PIZ"
      },
      "outputs": [],
      "source": []
    },
    {
      "cell_type": "code",
      "execution_count": null,
      "metadata": {
        "colab": {
          "base_uri": "https://localhost:8080/"
        },
        "id": "bjUasqZi-FXJ",
        "outputId": "b80cd203-fc39-4a4d-9f7f-0177b7bd2cd4"
      },
      "outputs": [
        {
          "output_type": "stream",
          "name": "stdout",
          "text": [
            "[6 7]\n"
          ]
        }
      ],
      "source": [
        "print(sumu[2])"
      ]
    },
    {
      "cell_type": "code",
      "execution_count": null,
      "metadata": {
        "colab": {
          "base_uri": "https://localhost:8080/"
        },
        "id": "2cQwdKpH-P-R",
        "outputId": "a66f8a48-244a-44d7-ee6f-9f394633933b"
      },
      "outputs": [
        {
          "output_type": "stream",
          "name": "stdout",
          "text": [
            "[1 2]\n",
            "[3 4]\n",
            "[5]\n"
          ]
        }
      ],
      "source": [
        "arr= np.array([1,2,3,4,5,6,7])\n",
        "sumu = np.array_split(arr,5)\n",
        "print(sumu[0])\n",
        "print(sumu[1])\n",
        "print(sumu[2])"
      ]
    },
    {
      "cell_type": "code",
      "execution_count": null,
      "metadata": {
        "colab": {
          "base_uri": "https://localhost:8080/"
        },
        "id": "E03aEViC-QHo",
        "outputId": "9bc2c37e-0d43-4b80-e0ec-4530f71075b2"
      },
      "outputs": [
        {
          "output_type": "stream",
          "name": "stdout",
          "text": [
            "[array([[1, 2, 3],\n",
            "       [4, 5, 6]]), array([[ 7,  8,  9],\n",
            "       [10, 11, 12]]), array([[13, 14, 15],\n",
            "       [16, 17, 18]])]\n"
          ]
        }
      ],
      "source": [
        "arr= np.array([[1,2,3], [4,5,6],[7,8,9],[10,11,12], [13,14,15],[16,17,18]])\n",
        "sumu = np.array_split(arr,3)\n",
        "print(sumu)"
      ]
    },
    {
      "cell_type": "markdown",
      "metadata": {
        "id": "nh2kn9q9EI4i"
      },
      "source": [
        "array Shape"
      ]
    },
    {
      "cell_type": "code",
      "execution_count": null,
      "metadata": {
        "colab": {
          "base_uri": "https://localhost:8080/"
        },
        "id": "x5K-cREKEEGU",
        "outputId": "5bac54b0-af5b-4945-85c5-01085d7fbf2f"
      },
      "outputs": [
        {
          "output_type": "execute_result",
          "data": {
            "text/plain": [
              "dtype('int64')"
            ]
          },
          "metadata": {},
          "execution_count": 32
        }
      ],
      "source": [
        "a = np.array([1,2,3])\n",
        "a.dtype\n"
      ]
    },
    {
      "cell_type": "code",
      "execution_count": null,
      "metadata": {
        "colab": {
          "base_uri": "https://localhost:8080/"
        },
        "id": "FLikpS-kGacx",
        "outputId": "9b18bd98-b2c7-4b0e-e397-cd9f73515592"
      },
      "outputs": [
        {
          "output_type": "execute_result",
          "data": {
            "text/plain": [
              "dtype('float64')"
            ]
          },
          "metadata": {},
          "execution_count": 33
        }
      ],
      "source": [
        "b = np.array([1.5,2,3,4,5,6,7,8,9])\n",
        "b.dtype"
      ]
    },
    {
      "cell_type": "code",
      "execution_count": null,
      "metadata": {
        "colab": {
          "base_uri": "https://localhost:8080/"
        },
        "id": "nmatW2qCGxtg",
        "outputId": "b91ade52-fa42-426e-a446-907543508148"
      },
      "outputs": [
        {
          "output_type": "execute_result",
          "data": {
            "text/plain": [
              "dtype('<U5')"
            ]
          },
          "metadata": {},
          "execution_count": 34
        }
      ],
      "source": [
        "b = np.array(['Rabbi','Sumu'])\n",
        "b.dtype"
      ]
    },
    {
      "cell_type": "code",
      "source": [
        "arr1 = np.array([1,2,3])\n",
        "arr2 = np.array([4,5,6])\n",
        "arr = np.hstack((arr1,arr2)) #stack array horigontally\n",
        "print(arr)"
      ],
      "metadata": {
        "colab": {
          "base_uri": "https://localhost:8080/"
        },
        "id": "rsVgrvS9ZQF1",
        "outputId": "fefba682-4f4d-458f-eacb-c03ef2cc9cd4"
      },
      "execution_count": null,
      "outputs": [
        {
          "output_type": "stream",
          "name": "stdout",
          "text": [
            "[1 2 3 4 5 6]\n"
          ]
        }
      ]
    },
    {
      "cell_type": "code",
      "source": [
        "arr1 = np.array([1,2,3])\n",
        "arr2 = np.array([4,5,6])\n",
        "arr = np.vstack((arr1,arr2))\n",
        "print(arr)"
      ],
      "metadata": {
        "colab": {
          "base_uri": "https://localhost:8080/"
        },
        "id": "dtpBZL4AZzOG",
        "outputId": "b2c07b5e-2b82-472a-c252-995a33198506"
      },
      "execution_count": null,
      "outputs": [
        {
          "output_type": "stream",
          "name": "stdout",
          "text": [
            "[[1 2 3]\n",
            " [4 5 6]]\n"
          ]
        }
      ]
    },
    {
      "cell_type": "code",
      "source": [
        "from numpy.core.multiarray import concatenate\n",
        "arr1 = np.array([1,2,3])\n",
        "arr2 = np.array([4,5,6])\n",
        "arr = concatenate((arr1,arr2))\n",
        "print(arr)"
      ],
      "metadata": {
        "colab": {
          "base_uri": "https://localhost:8080/"
        },
        "id": "r7EDD_ltZ5t8",
        "outputId": "29137670-68df-42eb-bf3a-e04216fb2a32"
      },
      "execution_count": null,
      "outputs": [
        {
          "output_type": "stream",
          "name": "stdout",
          "text": [
            "[1 2 3 4 5 6]\n"
          ]
        }
      ]
    },
    {
      "cell_type": "markdown",
      "source": [
        "# Numpy array slicing"
      ],
      "metadata": {
        "id": "7Zx53sEQp3TX"
      }
    },
    {
      "cell_type": "code",
      "source": [
        "       # Define the original matrix\n",
        "matrix = np.array([[0, 1, 2, 3, 4],\n",
        "                  [5, 6, 7, 8, 9],\n",
        "                  [10, 11, 12, 13, 14]])\n",
        "\n",
        "# Use slicing to extract the submatrix\n",
        "submatrix = matrix[:2,2:4]\n",
        "\n",
        "\n",
        "print(submatrix)\n"
      ],
      "metadata": {
        "id": "NkSNFRDIaF8U",
        "colab": {
          "base_uri": "https://localhost:8080/"
        },
        "outputId": "20590cdb-e23a-4730-d8f0-5db42d591684"
      },
      "execution_count": null,
      "outputs": [
        {
          "output_type": "stream",
          "name": "stdout",
          "text": [
            "[[2 3]\n",
            " [7 8]]\n"
          ]
        }
      ]
    },
    {
      "cell_type": "code",
      "source": [
        "\n",
        "sumu = np.array([[0,1,2,3,4],\n",
        "                 [5,6,7,8,9],\n",
        "                  [10,11,12,13,14]])\n",
        "prantee = sumu[:,::2]\n",
        "print(prantee)"
      ],
      "metadata": {
        "colab": {
          "base_uri": "https://localhost:8080/"
        },
        "id": "WvyeVG5XoCYG",
        "outputId": "4282c6c3-31b6-4f5d-a153-2e3499ff84dd"
      },
      "execution_count": null,
      "outputs": [
        {
          "output_type": "stream",
          "name": "stdout",
          "text": [
            "[[ 0  2  4]\n",
            " [ 5  7  9]\n",
            " [10 12 14]]\n"
          ]
        }
      ]
    },
    {
      "cell_type": "code",
      "source": [
        "sumu = np.array([[0,1,2,3,4],\n",
        "                 [5,6,7,8,9],\n",
        "                  [10,11,12,13,14]])\n",
        "prantee = sumu[::2,::3]\n",
        "print(prantee)"
      ],
      "metadata": {
        "colab": {
          "base_uri": "https://localhost:8080/"
        },
        "id": "839FuprapiEx",
        "outputId": "4f12a74f-301d-45d8-f1d5-c4795ef90c5c"
      },
      "execution_count": null,
      "outputs": [
        {
          "output_type": "stream",
          "name": "stdout",
          "text": [
            "[[ 0  3]\n",
            " [10 13]]\n"
          ]
        }
      ]
    },
    {
      "cell_type": "markdown",
      "source": [
        "search"
      ],
      "metadata": {
        "id": "uq5WFZLL2vp4"
      }
    },
    {
      "cell_type": "code",
      "source": [
        "arr = np.array([1,2,3,4,5,4,4])\n",
        "x = np.where(arr==4)\n",
        "print(x)"
      ],
      "metadata": {
        "id": "kj4N_5sSt2EG",
        "colab": {
          "base_uri": "https://localhost:8080/"
        },
        "outputId": "b31aee0c-c7fb-4805-dfe5-8d6e5b745158"
      },
      "execution_count": null,
      "outputs": [
        {
          "output_type": "stream",
          "name": "stdout",
          "text": [
            "(array([3, 5, 6]),)\n"
          ]
        }
      ]
    },
    {
      "cell_type": "code",
      "source": [
        "arr = np.array([1,2,3,4,5,6,7,8])\n",
        "x = np.where(arr %2 == 0)\n",
        "print(x)"
      ],
      "metadata": {
        "colab": {
          "base_uri": "https://localhost:8080/"
        },
        "id": "0mNefxiP3dHf",
        "outputId": "16dea063-f305-42ea-d02b-5eea4fb2720c"
      },
      "execution_count": null,
      "outputs": [
        {
          "output_type": "stream",
          "name": "stdout",
          "text": [
            "(array([1, 3, 5, 7]),)\n"
          ]
        }
      ]
    },
    {
      "cell_type": "code",
      "source": [
        "arr = np.array([1,2,3,4,5,6,7,8])\n",
        "x = np.where(arr%2 == 1)\n",
        "print(x)"
      ],
      "metadata": {
        "colab": {
          "base_uri": "https://localhost:8080/"
        },
        "id": "YP3fYXmB3wpn",
        "outputId": "4926936f-f0b8-4f5c-b663-032db17a14fe"
      },
      "execution_count": null,
      "outputs": [
        {
          "output_type": "stream",
          "name": "stdout",
          "text": [
            "(array([0, 2, 4, 6]),)\n"
          ]
        }
      ]
    },
    {
      "cell_type": "code",
      "source": [
        "a = np.arange(30).reshape((5,6))\n",
        "a"
      ],
      "metadata": {
        "colab": {
          "base_uri": "https://localhost:8080/"
        },
        "id": "p21a_4yH4mTX",
        "outputId": "034e9a64-6186-4fb1-f522-38034601ff61"
      },
      "execution_count": null,
      "outputs": [
        {
          "output_type": "execute_result",
          "data": {
            "text/plain": [
              "array([[ 0,  1,  2,  3,  4,  5],\n",
              "       [ 6,  7,  8,  9, 10, 11],\n",
              "       [12, 13, 14, 15, 16, 17],\n",
              "       [18, 19, 20, 21, 22, 23],\n",
              "       [24, 25, 26, 27, 28, 29]])"
            ]
          },
          "metadata": {},
          "execution_count": 44
        }
      ]
    },
    {
      "cell_type": "code",
      "source": [
        "arr = np.arange(20).reshape((4,5))\n",
        "arr"
      ],
      "metadata": {
        "colab": {
          "base_uri": "https://localhost:8080/"
        },
        "id": "weHXgq2S5wHA",
        "outputId": "0fe5fc17-7398-48dc-c83f-b9cf6970bba8"
      },
      "execution_count": null,
      "outputs": [
        {
          "output_type": "execute_result",
          "data": {
            "text/plain": [
              "array([[ 0,  1,  2,  3,  4],\n",
              "       [ 5,  6,  7,  8,  9],\n",
              "       [10, 11, 12, 13, 14],\n",
              "       [15, 16, 17, 18, 19]])"
            ]
          },
          "metadata": {},
          "execution_count": 45
        }
      ]
    },
    {
      "cell_type": "code",
      "source": [
        "i = np.array([[1,2], [0,2]])\n",
        "j = np.array([[1,0], [1,3]])\n",
        "arr[i,j]\n"
      ],
      "metadata": {
        "colab": {
          "base_uri": "https://localhost:8080/"
        },
        "id": "JaFPIuuD51Bo",
        "outputId": "3721b753-30e1-4f1e-e722-6c555caee0ae"
      },
      "execution_count": null,
      "outputs": [
        {
          "output_type": "execute_result",
          "data": {
            "text/plain": [
              "array([[ 6, 10],\n",
              "       [ 1, 13]])"
            ]
          },
          "metadata": {},
          "execution_count": 46
        }
      ]
    },
    {
      "cell_type": "code",
      "source": [
        "a = np.arange(15).reshape((3,5))\n",
        "a"
      ],
      "metadata": {
        "colab": {
          "base_uri": "https://localhost:8080/"
        },
        "id": "WxnZONU77tCJ",
        "outputId": "4dccdfde-be52-4c71-a551-7b172f01f444"
      },
      "execution_count": null,
      "outputs": [
        {
          "output_type": "execute_result",
          "data": {
            "text/plain": [
              "array([[ 0,  1,  2,  3,  4],\n",
              "       [ 5,  6,  7,  8,  9],\n",
              "       [10, 11, 12, 13, 14]])"
            ]
          },
          "metadata": {},
          "execution_count": 47
        }
      ]
    },
    {
      "cell_type": "code",
      "source": [
        "b = (a%3 == 0)\n",
        "b"
      ],
      "metadata": {
        "colab": {
          "base_uri": "https://localhost:8080/"
        },
        "id": "dADnwQcw75uM",
        "outputId": "5c0033a0-505c-4f05-a7e9-842bf7efd0f2"
      },
      "execution_count": null,
      "outputs": [
        {
          "output_type": "execute_result",
          "data": {
            "text/plain": [
              "array([[ True, False, False,  True, False],\n",
              "       [False,  True, False, False,  True],\n",
              "       [False, False,  True, False, False]])"
            ]
          },
          "metadata": {},
          "execution_count": 48
        }
      ]
    },
    {
      "cell_type": "code",
      "source": [
        "a[b]"
      ],
      "metadata": {
        "colab": {
          "base_uri": "https://localhost:8080/"
        },
        "id": "RE6nDP3d8KNJ",
        "outputId": "1cfe7433-548d-4f9a-b63b-83fc86bc3672"
      },
      "execution_count": null,
      "outputs": [
        {
          "output_type": "execute_result",
          "data": {
            "text/plain": [
              "array([ 0,  3,  6,  9, 12])"
            ]
          },
          "metadata": {},
          "execution_count": 49
        }
      ]
    },
    {
      "cell_type": "code",
      "source": [
        "b= (a%3 != 0)\n",
        "b"
      ],
      "metadata": {
        "id": "DMkbsrVr8qS-",
        "colab": {
          "base_uri": "https://localhost:8080/"
        },
        "outputId": "e32516e6-6aef-40f7-e964-c7ab344704aa"
      },
      "execution_count": null,
      "outputs": [
        {
          "output_type": "execute_result",
          "data": {
            "text/plain": [
              "array([[False,  True,  True, False,  True],\n",
              "       [ True, False,  True,  True, False],\n",
              "       [ True,  True, False,  True,  True]])"
            ]
          },
          "metadata": {},
          "execution_count": 50
        }
      ]
    },
    {
      "cell_type": "code",
      "source": [
        "a[b]"
      ],
      "metadata": {
        "colab": {
          "base_uri": "https://localhost:8080/"
        },
        "id": "CBiAWFWI8y9C",
        "outputId": "598fc990-acb6-4b45-eae4-f3660511bdf3"
      },
      "execution_count": null,
      "outputs": [
        {
          "output_type": "execute_result",
          "data": {
            "text/plain": [
              "array([ 1,  2,  4,  5,  7,  8, 10, 11, 13, 14])"
            ]
          },
          "metadata": {},
          "execution_count": 51
        }
      ]
    },
    {
      "cell_type": "markdown",
      "source": [
        "np sorting array"
      ],
      "metadata": {
        "id": "J2TCiwEsCbkW"
      }
    },
    {
      "cell_type": "code",
      "source": [
        "arr = np.array([3,2,0,1])\n",
        "print(np.sort(arr))"
      ],
      "metadata": {
        "colab": {
          "base_uri": "https://localhost:8080/"
        },
        "id": "4v8oaxF5BTjW",
        "outputId": "b983a79c-19ea-457a-9615-3cc5b72089c4"
      },
      "execution_count": null,
      "outputs": [
        {
          "output_type": "stream",
          "name": "stdout",
          "text": [
            "[0 1 2 3]\n"
          ]
        }
      ]
    },
    {
      "cell_type": "markdown",
      "metadata": {
        "id": "KrXdZlUz3H8Z"
      },
      "source": []
    },
    {
      "cell_type": "code",
      "source": [
        "arr = np.array([3,2,0,1])\n",
        "print(np.sort((arr)) [::-1])"
      ],
      "metadata": {
        "colab": {
          "base_uri": "https://localhost:8080/"
        },
        "id": "azISIRUWKH4X",
        "outputId": "8c91ce61-bde7-4d39-d592-85701890d6b6"
      },
      "execution_count": null,
      "outputs": [
        {
          "output_type": "stream",
          "name": "stdout",
          "text": [
            "[3 2 1 0]\n"
          ]
        }
      ]
    },
    {
      "cell_type": "code",
      "source": [
        "arr = np.array(['orange','lemon','mango'])\n",
        "print(np.sort(arr))"
      ],
      "metadata": {
        "colab": {
          "base_uri": "https://localhost:8080/"
        },
        "id": "pnVGbKjyMDHd",
        "outputId": "8cc8d601-8971-4975-a14c-6d02f414477b"
      },
      "execution_count": null,
      "outputs": [
        {
          "output_type": "stream",
          "name": "stdout",
          "text": [
            "['lemon' 'mango' 'orange']\n"
          ]
        }
      ]
    },
    {
      "cell_type": "markdown",
      "metadata": {
        "id": "ie_KrvARwoB0"
      },
      "source": []
    },
    {
      "cell_type": "code",
      "source": [
        "arr = np.array([41,42,43,44])\n",
        "x=[True,False,True,False]\n",
        "newarr= arr[x]\n",
        "print(newarr)"
      ],
      "metadata": {
        "colab": {
          "base_uri": "https://localhost:8080/"
        },
        "id": "rsr8zQuLNAaH",
        "outputId": "1c5d9ab5-9d0d-43ee-f2ba-db67cc7850f2"
      },
      "execution_count": null,
      "outputs": [
        {
          "output_type": "stream",
          "name": "stdout",
          "text": [
            "[41 43]\n"
          ]
        }
      ]
    },
    {
      "cell_type": "code",
      "source": [
        "\n",
        "arr = np.array([41, 42, 43, 44])\n",
        "x = [True, False, True, False]\n",
        "\n",
        "# Find values in arr where x is False\n",
        "false_values = arr[np.logical_not(x)]\n",
        "\n",
        "print(false_values)\n"
      ],
      "metadata": {
        "colab": {
          "base_uri": "https://localhost:8080/"
        },
        "id": "fUEtJasHNir3",
        "outputId": "e835f44e-4cc6-4f4d-cdee-98c30e67f8b4"
      },
      "execution_count": null,
      "outputs": [
        {
          "output_type": "stream",
          "name": "stdout",
          "text": [
            "[42 44]\n"
          ]
        }
      ]
    },
    {
      "cell_type": "code",
      "source": [
        "arr =np.array([41,42,43,44])\n",
        "filter_arr = arr > 42\n",
        "newarr = arr[filter_arr]\n",
        "print(filter_arr)\n",
        "print(newarr)\n"
      ],
      "metadata": {
        "colab": {
          "base_uri": "https://localhost:8080/"
        },
        "id": "61GXp0xrOLBz",
        "outputId": "db5e9820-e6ef-4acd-97c9-9eccb519ca32"
      },
      "execution_count": null,
      "outputs": [
        {
          "output_type": "stream",
          "name": "stdout",
          "text": [
            "[False False  True  True]\n",
            "[43 44]\n"
          ]
        }
      ]
    },
    {
      "cell_type": "code",
      "source": [
        "#random value\n",
        "arr =np.array([1,2,3,4])\n",
        "print(np.random.randint(arr))\n"
      ],
      "metadata": {
        "colab": {
          "base_uri": "https://localhost:8080/"
        },
        "id": "yioH_lefPdXo",
        "outputId": "e8380b85-677c-4df6-bf54-cce1cd143500"
      },
      "execution_count": null,
      "outputs": [
        {
          "output_type": "stream",
          "name": "stdout",
          "text": [
            "[0 1 0 3]\n"
          ]
        }
      ]
    },
    {
      "cell_type": "code",
      "source": [
        "np.random.randint(5, size=(2, 4))\n"
      ],
      "metadata": {
        "colab": {
          "base_uri": "https://localhost:8080/"
        },
        "id": "tIm41L_EQNRg",
        "outputId": "0aafc4fa-4abf-40a9-8338-64de98ef9907"
      },
      "execution_count": null,
      "outputs": [
        {
          "output_type": "execute_result",
          "data": {
            "text/plain": [
              "array([[4, 3, 0, 4],\n",
              "       [3, 2, 2, 3]])"
            ]
          },
          "metadata": {},
          "execution_count": 59
        }
      ]
    },
    {
      "cell_type": "code",
      "source": [
        "#Zeroes\n",
        "arr =np.zeros(5)\n",
        "print(arr)"
      ],
      "metadata": {
        "colab": {
          "base_uri": "https://localhost:8080/"
        },
        "id": "yhJMCmptRJRt",
        "outputId": "04fc95fa-431c-4613-a328-5271f766e4f9"
      },
      "execution_count": null,
      "outputs": [
        {
          "output_type": "stream",
          "name": "stdout",
          "text": [
            "[0. 0. 0. 0. 0.]\n"
          ]
        }
      ]
    },
    {
      "cell_type": "code",
      "source": [
        "\n",
        "#sorted index\n",
        "\n",
        "\n",
        "# Original array\n",
        "array = np.array([10, 52, 62, 16, 16, 54, 453])\n",
        "print(array)\n",
        "\n",
        "# Indices of the sorted elements of a\n",
        "# given array\n",
        "indices = np.argsort(array)\n",
        "print(indices)"
      ],
      "metadata": {
        "colab": {
          "base_uri": "https://localhost:8080/"
        },
        "id": "wLHaE-IWUBzg",
        "outputId": "20cf1447-48f1-40e5-9c50-f214e0f7437c"
      },
      "execution_count": null,
      "outputs": [
        {
          "output_type": "stream",
          "name": "stdout",
          "text": [
            "[ 10  52  62  16  16  54 453]\n",
            "[0 3 4 1 5 2 6]\n"
          ]
        }
      ]
    },
    {
      "cell_type": "code",
      "source": [
        "arr =np.array([9,2,8,4,5,12,7,6])\n",
        "b = np.argsort(arr)\n",
        "print(b) #not Need"
      ],
      "metadata": {
        "colab": {
          "base_uri": "https://localhost:8080/"
        },
        "id": "K0tN4_olRjLE",
        "outputId": "aeec1eab-7b1a-4dff-9cd7-cee16e08717d"
      },
      "execution_count": null,
      "outputs": [
        {
          "output_type": "stream",
          "name": "stdout",
          "text": [
            "[1 3 4 7 6 2 0 5]\n"
          ]
        }
      ]
    },
    {
      "cell_type": "code",
      "source": [
        "#Max values\n",
        "arr = np.array([[1,2,3],[3,4,5],[7,8,9]])\n",
        "b = np.max(arr)\n",
        "print(b)"
      ],
      "metadata": {
        "colab": {
          "base_uri": "https://localhost:8080/"
        },
        "id": "0LUyoN1FSR11",
        "outputId": "9cf1a895-a9dc-42c0-bb68-843432adaefa"
      },
      "execution_count": null,
      "outputs": [
        {
          "output_type": "stream",
          "name": "stdout",
          "text": [
            "9\n"
          ]
        }
      ]
    },
    {
      "cell_type": "code",
      "source": [
        "arra_data = np.arange(0,16).reshape((4, 4))\n",
        "print(\"Original array:\")\n",
        "print(arra_data)\n",
        "print(\"\\nExtracted data: Second and fourth elements of the second and fourth rows \")\n",
        "print(arra_data[1:3,1:3])\n",
        "#sumu = np.array([[0,1,2,3,4],\n",
        "               #  [5,6,7,8,9],\n",
        "                 # [10,11,12,13,14]])\n",
        "#prantee = sumu[::2,::3]\n",
        "#print(prantee)"
      ],
      "metadata": {
        "id": "1T9v3LDRVCGl",
        "colab": {
          "base_uri": "https://localhost:8080/"
        },
        "outputId": "7a0608dd-0534-4405-8852-a2935a9eb9a8"
      },
      "execution_count": null,
      "outputs": [
        {
          "output_type": "stream",
          "name": "stdout",
          "text": [
            "Original array:\n",
            "[[ 0  1  2  3]\n",
            " [ 4  5  6  7]\n",
            " [ 8  9 10 11]\n",
            " [12 13 14 15]]\n",
            "\n",
            "Extracted data: Second and fourth elements of the second and fourth rows \n",
            "[[ 5  6]\n",
            " [ 9 10]]\n"
          ]
        }
      ]
    }
  ],
  "metadata": {
    "colab": {
      "provenance": []
    },
    "kernelspec": {
      "display_name": "Python 3",
      "name": "python3"
    },
    "language_info": {
      "name": "python"
    }
  },
  "nbformat": 4,
  "nbformat_minor": 0
}