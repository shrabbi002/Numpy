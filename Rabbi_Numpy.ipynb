{
  "cells": [
    {
      "cell_type": "markdown",
      "metadata": {
        "id": "onA3znSp0dtg"
      },
      "source": [
        "Problem 01: ***Reverse Array***"
      ]
    },
    {
      "cell_type": "code",
      "execution_count": null,
      "metadata": {
        "id": "zgRvmBgu0gTg"
      },
      "outputs": [],
      "source": [
        "import numpy as np"
      ]
    },
    {
      "cell_type": "code",
      "execution_count": null,
      "metadata": {
        "id": "SCXlul0Cxmkq"
      },
      "outputs": [],
      "source": [
        "def reverse_array(array):\n",
        "   return array[::-1]"
      ]
    },
    {
      "cell_type": "code",
      "execution_count": null,
      "metadata": {
        "colab": {
          "base_uri": "https://localhost:8080/"
        },
        "id": "fzqULL73yGQa",
        "outputId": "8ebfde6e-744d-4f78-dce1-3077508f4a95"
      },
      "outputs": [
        {
          "name": "stdout",
          "output_type": "stream",
          "text": [
            "1 2 3 4 -8 -10\n",
            "[-10.  -8.   4.   3.   2.   1.]\n"
          ]
        }
      ],
      "source": [
        "input_string = input()\n",
        "array = np.array(input_string.split(), dtype=float)\n",
        "reversed_array = reverse_array(array)\n",
        "print(reversed_array)"
      ]
    },
    {
      "cell_type": "markdown",
      "metadata": {
        "id": "c7aaKRKp1R8S"
      },
      "source": [
        "\n",
        "\n",
        "```\n",
        "# This is formatted as code\n",
        "```\n",
        "\n",
        "**`Problem 02`**\n",
        "Shape Reshape\n"
      ]
    },
    {
      "cell_type": "code",
      "execution_count": null,
      "metadata": {
        "colab": {
          "base_uri": "https://localhost:8080/"
        },
        "id": "Hga8qDxG29By",
        "outputId": "abd0c2d4-928a-471e-fc6f-16a7ecb4ad5e"
      },
      "outputs": [
        {
          "name": "stdout",
          "output_type": "stream",
          "text": [
            "[[1 2 3]\n",
            " [4 5 6]\n",
            " [7 8 9]]\n"
          ]
        }
      ],
      "source": [
        "arr = np.array([1, 2, 3, 4, 5, 6, 7, 8, 9])\n",
        "np= arr.reshape((3, 3))\n",
        "print(np)"
      ]
    },
    {
      "cell_type": "markdown",
      "metadata": {
        "id": "0yxDd9Nf5Eca"
      },
      "source": [
        "**Problem 03**\n",
        "Tranpose and Flatten\n"
      ]
    },
    {
      "cell_type": "code",
      "execution_count": null,
      "metadata": {
        "colab": {
          "base_uri": "https://localhost:8080/"
        },
        "id": "83Tn6Uox7llq",
        "outputId": "062facf5-db36-47d9-89c4-349bc5d906b9"
      },
      "outputs": [
        {
          "output_type": "stream",
          "name": "stdout",
          "text": [
            "2 2\n",
            "1 2\n",
            "3 4\n",
            "[[1 3]\n",
            " [2 4]]\n",
            "[1 3 2 4]\n"
          ]
        }
      ],
      "source": [
        "n, m = map(int, input().split())\n",
        "\n",
        "\n",
        "matrix = [list(map(int, input().split())) for _ in range(n)]\n",
        "\n",
        "np_array = np.array(matrix)\n",
        "\n",
        "transpose_array = np.transpose(np_array)\n",
        "\n",
        "flatten_array = transpose_array.flatten()\n",
        "\n",
        "print(transpose_array)\n",
        "print(flatten_array)\n"
      ]
    },
    {
      "cell_type": "markdown",
      "source": [
        "Problem 04\n",
        "#Concate"
      ],
      "metadata": {
        "id": "5DnurjaRN0BS"
      }
    },
    {
      "cell_type": "code",
      "execution_count": null,
      "metadata": {
        "id": "uJBY796h7n24",
        "colab": {
          "base_uri": "https://localhost:8080/"
        },
        "outputId": "917384ce-79c9-44ec-90fd-9387657cb4d9"
      },
      "outputs": [
        {
          "output_type": "stream",
          "name": "stdout",
          "text": [
            "4 3 2\n",
            "1 2\n",
            "1 2\n",
            "1 2\n",
            "1 2\n",
            "3 4\n",
            "3 4\n",
            "3 4\n",
            "[[1 2]\n",
            " [1 2]\n",
            " [1 2]\n",
            " [1 2]\n",
            " [3 4]\n",
            " [3 4]\n",
            " [3 4]]\n"
          ]
        }
      ],
      "source": [
        " n, m, p = map(int, input().split())\n",
        "array1 = [list(map(int, input().split())) for _ in range(n)]\n",
        "\n",
        "array2 = [list(map(int, input().split())) for _ in range(m)]\n",
        "np_array1 = np.array(array1)\n",
        "np_array2 = np.array(array2)\n",
        "concatenated_array = np.concatenate((np_array1, np_array2), axis=0)\n",
        "\n",
        "print(concatenated_array)\n",
        "\n"
      ]
    },
    {
      "cell_type": "markdown",
      "source": [],
      "metadata": {
        "id": "b-T3uXxuReYG"
      }
    },
    {
      "cell_type": "markdown",
      "source": [
        "Problem 05\n",
        "#Zeros and Ones"
      ],
      "metadata": {
        "id": "aTY6ARbwPVEp"
      }
    },
    {
      "cell_type": "code",
      "execution_count": null,
      "metadata": {
        "id": "46cuHQNt94iK",
        "colab": {
          "base_uri": "https://localhost:8080/"
        },
        "outputId": "82c11c5d-d159-4fd0-fbe3-9a749fb1847e"
      },
      "outputs": [
        {
          "output_type": "stream",
          "name": "stdout",
          "text": [
            "3 3 3\n",
            "[[[0 0 0]\n",
            "  [0 0 0]\n",
            "  [0 0 0]]\n",
            "\n",
            " [[0 0 0]\n",
            "  [0 0 0]\n",
            "  [0 0 0]]\n",
            "\n",
            " [[0 0 0]\n",
            "  [0 0 0]\n",
            "  [0 0 0]]]\n",
            "[[[1 1 1]\n",
            "  [1 1 1]\n",
            "  [1 1 1]]\n",
            "\n",
            " [[1 1 1]\n",
            "  [1 1 1]\n",
            "  [1 1 1]]\n",
            "\n",
            " [[1 1 1]\n",
            "  [1 1 1]\n",
            "  [1 1 1]]]\n"
          ]
        }
      ],
      "source": [
        "shape = tuple(map(int, input().split()))\n",
        "\n",
        "zeros_array = np.zeros(shape, dtype=int)\n",
        "ones_array = np.ones(shape, dtype=int)\n",
        "\n",
        "print(zeros_array)\n",
        "print(ones_array)\n"
      ]
    },
    {
      "cell_type": "markdown",
      "source": [
        "#6. Eye And Identity"
      ],
      "metadata": {
        "id": "IoTfmNRjP4PQ"
      }
    },
    {
      "cell_type": "code",
      "source": [
        "import numpy as np\n",
        "np.set_printoptions(sign=' ')\n",
        "\n",
        "n, m = map(int, input().split())\n",
        "result_array = np.eye(n, m)\n",
        "\n",
        "print(result_array)\n"
      ],
      "metadata": {
        "colab": {
          "base_uri": "https://localhost:8080/"
        },
        "id": "LOmwmgkPQMCp",
        "outputId": "644a742c-cf9d-4925-cda4-e7d2a864676b"
      },
      "execution_count": null,
      "outputs": [
        {
          "output_type": "stream",
          "name": "stdout",
          "text": [
            "3 3\n",
            "[[ 1.  0.  0.]\n",
            " [ 0.  1.  0.]\n",
            " [ 0.  0.  1.]]\n"
          ]
        }
      ]
    },
    {
      "cell_type": "markdown",
      "source": [
        "#7: Array Math\n"
      ],
      "metadata": {
        "id": "ebBcltUSQoaQ"
      }
    },
    {
      "cell_type": "code",
      "source": [
        "n, m = map(int, input().split())\n",
        "array1 = np.array([list(map(int, input().split())) for _ in range(n)])\n",
        "array2 = np.array([list(map(int, input().split())) for _ in range(n)])\n",
        "\n",
        "sum_result = np.add(array1, array2)\n",
        "diff_result = np.subtract(array1, array2)\n",
        "prod_result = np.multiply(array1, array2)\n",
        "div_result = np.floor_divide(array1, array2)\n",
        "mod_result = np.mod(array1, array2)\n",
        "power_result = np.power(array1, array2)\n",
        "\n",
        "print(sum_result)\n",
        "print(diff_result)\n",
        "print(prod_result)\n",
        "print(div_result)\n",
        "print(mod_result)\n",
        "print(power_result)\n"
      ],
      "metadata": {
        "colab": {
          "base_uri": "https://localhost:8080/"
        },
        "id": "_G-gOSKVRLYw",
        "outputId": "35c69b2d-d6d2-4179-8efd-a3fc3b1e218e"
      },
      "execution_count": null,
      "outputs": [
        {
          "output_type": "stream",
          "name": "stdout",
          "text": [
            "1 4\n",
            " 1 2 3 4\n",
            "5 6 7 8\n",
            "[[ 6  8 10 12]]\n",
            "[[-4 -4 -4 -4]]\n",
            "[[ 5 12 21 32]]\n",
            "[[0 0 0 0]]\n",
            "[[1 2 3 4]]\n",
            "[[    1    64  2187 65536]]\n"
          ]
        }
      ]
    },
    {
      "cell_type": "markdown",
      "source": [
        "#8: Floor, cell and rent"
      ],
      "metadata": {
        "id": "3o7P14I7RkC_"
      }
    },
    {
      "cell_type": "markdown",
      "source": [],
      "metadata": {
        "id": "eDheSqMNRXtP"
      }
    },
    {
      "cell_type": "code",
      "source": [
        "import numpy as np\n",
        "np.set_printoptions(sign=' ')\n",
        "elements = np.array(input().split(), dtype=float)\n",
        "\n",
        "print(np.floor(elements))\n",
        "print(np.ceil(elements))\n",
        "print(np.rint(elements))\n"
      ],
      "metadata": {
        "colab": {
          "base_uri": "https://localhost:8080/"
        },
        "id": "qNdvIOtgRpo4",
        "outputId": "42bf2fc3-4ef6-42eb-e0cc-870ed6465540"
      },
      "execution_count": null,
      "outputs": [
        {
          "output_type": "stream",
          "name": "stdout",
          "text": [
            "1.1 2.2 3.3 4.4 5.5 6.6 7.7 8.8 9.9\n",
            "[ 1.  2.  3.  4.  5.  6.  7.  8.  9.]\n",
            "[  2.   3.   4.   5.   6.   7.   8.   9.  10.]\n",
            "[  1.   2.   3.   4.   6.   7.   8.   9.  10.]\n"
          ]
        }
      ]
    },
    {
      "cell_type": "markdown",
      "source": [
        "#9: Sum n Prod"
      ],
      "metadata": {
        "id": "KdnhIOnNStPj"
      }
    },
    {
      "cell_type": "code",
      "source": [
        "n, m = map(int, input().split())\n",
        "\n",
        "arr = np.array([list(map(int, input().split())) for _ in range(n)])\n",
        "sum_along_axis_0 = np.sum(arr, axis=0)\n",
        "\n",
        "product_of_sum = np.prod(sum_along_axis_0)\n",
        "\n",
        "print(product_of_sum)\n"
      ],
      "metadata": {
        "colab": {
          "base_uri": "https://localhost:8080/"
        },
        "id": "UOmL1swdS5VY",
        "outputId": "72078418-7bb6-4343-ca9a-3c191eb4d631"
      },
      "execution_count": null,
      "outputs": [
        {
          "output_type": "stream",
          "name": "stdout",
          "text": [
            "2 2\n",
            "1 2\n",
            "3 4\n",
            "24\n"
          ]
        }
      ]
    },
    {
      "cell_type": "markdown",
      "source": [
        "#prob_10 Min Max"
      ],
      "metadata": {
        "id": "koTR5aMzTq_o"
      }
    },
    {
      "cell_type": "code",
      "source": [
        "n, m = map(int, input().split())\n",
        "arr = np.array([list(map(int, input().split())) for _ in range(n)])\n",
        "min_along_axis_1 = np.min(arr, axis=1)\n",
        "max_of_minimums = np.max(min_along_axis_1)\n",
        "\n",
        "print(max_of_minimums)\n"
      ],
      "metadata": {
        "colab": {
          "base_uri": "https://localhost:8080/"
        },
        "id": "K_K3fGcsTuRv",
        "outputId": "def65af1-6972-49c6-d02c-4680709550db"
      },
      "execution_count": null,
      "outputs": [
        {
          "output_type": "stream",
          "name": "stdout",
          "text": [
            " 4 2\n",
            "2 5\n",
            "3 7\n",
            "1 3\n",
            "4 0\n",
            "3\n"
          ]
        }
      ]
    },
    {
      "cell_type": "markdown",
      "source": [
        "#Prob_11: Mean, Var, std"
      ],
      "metadata": {
        "id": "LkY2zn1oUBlZ"
      }
    },
    {
      "cell_type": "code",
      "source": [
        "\n",
        "\n",
        "n, m = map(int, input().split())\n",
        "arr = np.array([list(map(int, input().split())) for _ in range(n)])\n",
        "\n",
        "mean_along_axis_1 = np.mean(arr, axis=1)\n",
        "variance_along_axis_1 = np.var(arr, axis=1)\n",
        "std_deviation_along_axis_1 = np.std(arr, axis=1)\n",
        "\n",
        "print(mean_along_axis_1)\n",
        "print(variance_along_axis_1)\n",
        "print(std_deviation_along_axis_1)\n"
      ],
      "metadata": {
        "colab": {
          "base_uri": "https://localhost:8080/"
        },
        "id": "bORpfTFYUJRJ",
        "outputId": "114e897e-5331-466c-8d56-2d42a63eb190"
      },
      "execution_count": null,
      "outputs": [
        {
          "output_type": "stream",
          "name": "stdout",
          "text": [
            "2 2\n",
            "1 2\n",
            "3 4\n",
            "[ 1.5  3.5]\n",
            "[ 0.25  0.25]\n",
            "[ 0.5  0.5]\n"
          ]
        }
      ]
    },
    {
      "cell_type": "markdown",
      "source": [
        "#Prob_12: Dot and Cross"
      ],
      "metadata": {
        "id": "bn4LkZUcUgof"
      }
    },
    {
      "cell_type": "code",
      "source": [
        "\n",
        "n = int(input())\n",
        "\n",
        "\n",
        "matrix1 = np.array([list(map(int, input().split())) for _ in range(n)])\n",
        "matrix2 = np.array([list(map(int, input().split())) for _ in range(n)])\n",
        "result_matrix = np.dot(matrix1, matrix2)\n",
        "\n",
        "print(result_matrix)\n"
      ],
      "metadata": {
        "colab": {
          "base_uri": "https://localhost:8080/"
        },
        "id": "yIIvkox3UmbQ",
        "outputId": "0dfbed93-2442-476a-bb0d-a70728c18cd0"
      },
      "execution_count": null,
      "outputs": [
        {
          "output_type": "stream",
          "name": "stdout",
          "text": [
            "2\n",
            "1 2\n",
            "3 4\n",
            "1 2\n",
            "3 4\n",
            "[[ 7 10]\n",
            " [15 22]]\n"
          ]
        }
      ]
    },
    {
      "cell_type": "markdown",
      "source": [
        "#Prob_13: Inner/Outer"
      ],
      "metadata": {
        "id": "Srx8qxJyVap_"
      }
    },
    {
      "cell_type": "code",
      "source": [
        "\n",
        "array1 = np.array(list(map(int, input().split())))\n",
        "array2 = np.array(list(map(int, input().split())))\n",
        "\n",
        "inner_product = np.inner(array1, array2)\n",
        "outer_product = np.outer(array1, array2)\n",
        "\n",
        "print(inner_product)\n",
        "print(outer_product)"
      ],
      "metadata": {
        "colab": {
          "base_uri": "https://localhost:8080/"
        },
        "id": "KBVxat50Vj7n",
        "outputId": "b46a0d4b-0dfa-4e3e-fa5f-27b580536e07"
      },
      "execution_count": null,
      "outputs": [
        {
          "output_type": "stream",
          "name": "stdout",
          "text": [
            "0 1\n",
            "2 3\n",
            "3\n",
            "[[0 0]\n",
            " [2 3]]\n"
          ]
        }
      ]
    },
    {
      "cell_type": "markdown",
      "source": [
        "#Prob_14: Polynomials"
      ],
      "metadata": {
        "id": "M2bJ3RuJWJGJ"
      }
    },
    {
      "cell_type": "code",
      "source": [
        "\n",
        "coefficients = list(map(float, input().split()))\n",
        "x = float(input())\n",
        "result = np.polyval(coefficients, x)\n",
        "\n",
        "\n",
        "print(result)\n"
      ],
      "metadata": {
        "colab": {
          "base_uri": "https://localhost:8080/"
        },
        "id": "-fI1JVgUWWUZ",
        "outputId": "9cc98943-040a-429e-8ca3-c9e4d13951d4"
      },
      "execution_count": null,
      "outputs": [
        {
          "output_type": "stream",
          "name": "stdout",
          "text": [
            "1. 1 2 3\n",
            "0\n",
            "3.0\n"
          ]
        }
      ]
    },
    {
      "cell_type": "markdown",
      "source": [
        "#Prob_15: Linear Algebra"
      ],
      "metadata": {
        "id": "YLuIF2spWgXo"
      }
    },
    {
      "cell_type": "code",
      "source": [
        "\n",
        "n = int(input())\n",
        "matrix = []\n",
        "for _ in range(n):\n",
        "    row = list(map(float, input().split()))\n",
        "    matrix.append(row)\n",
        "matrix = np.array(matrix)\n",
        "determinant = round(np.linalg.det(matrix), 2)\n",
        "\n",
        "print(determinant)\n"
      ],
      "metadata": {
        "colab": {
          "base_uri": "https://localhost:8080/"
        },
        "id": "0AwOBltYWoXf",
        "outputId": "00cfe104-9917-4798-b3de-f83e996e5075"
      },
      "execution_count": null,
      "outputs": [
        {
          "output_type": "stream",
          "name": "stdout",
          "text": [
            "2\n",
            " 1.1 1.1\n",
            "1.1 1.1\n",
            "0.0\n"
          ]
        }
      ]
    }
  ],
  "metadata": {
    "colab": {
      "provenance": []
    },
    "kernelspec": {
      "display_name": "Python 3",
      "name": "python3"
    },
    "language_info": {
      "name": "python"
    }
  },
  "nbformat": 4,
  "nbformat_minor": 0
}